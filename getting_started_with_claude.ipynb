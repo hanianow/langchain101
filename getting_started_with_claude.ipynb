{
 "cells": [
  {
   "cell_type": "markdown",
   "id": "625d41f9-e3cc-41df-96e4-a76521ad0fc9",
   "metadata": {},
   "source": [
    "# How to get started with Claude (Anthropic) instead of OpenAI\n",
    "\n",
    "code adapted from: https://python.langchain.com/docs/modules/model_io/models/chat/integrations/anthropic.html\n",
    "\n",
    "need to export: ANTHROPIC_API_KEY"
   ]
  },
  {
   "cell_type": "code",
   "execution_count": 1,
   "id": "8ae6b12a-214e-4cea-93df-78557303f927",
   "metadata": {},
   "outputs": [],
   "source": [
    "from langchain.chat_models import ChatAnthropic\n",
    "from langchain.prompts.chat import (\n",
    "    ChatPromptTemplate,\n",
    "    SystemMessagePromptTemplate,\n",
    "    AIMessagePromptTemplate,\n",
    "    HumanMessagePromptTemplate,\n",
    ")\n",
    "from langchain.schema import AIMessage, HumanMessage, SystemMessage"
   ]
  },
  {
   "cell_type": "code",
   "execution_count": 2,
   "id": "34b847e1-0d56-44bf-a9a2-366534c264f3",
   "metadata": {},
   "outputs": [],
   "source": [
    "chat = ChatAnthropic()"
   ]
  },
  {
   "cell_type": "code",
   "execution_count": 3,
   "id": "4aadde00-0397-4c68-bd24-b3186ec6bdfc",
   "metadata": {},
   "outputs": [
    {
     "data": {
      "text/plain": [
       "AIMessage(content=\" J'adore programmer.\", additional_kwargs={}, example=False)"
      ]
     },
     "execution_count": 3,
     "metadata": {},
     "output_type": "execute_result"
    }
   ],
   "source": [
    "messages = [\n",
    "    HumanMessage(\n",
    "        content=\"Translate this sentence from English to French. I love programming.\"\n",
    "    )\n",
    "]\n",
    "chat(messages)"
   ]
  },
  {
   "cell_type": "code",
   "execution_count": 4,
   "id": "b885241d-649d-437d-adfa-893d1c517514",
   "metadata": {},
   "outputs": [
    {
     "data": {
      "text/plain": [
       "AIMessage(content=\" Here is how I would describe an epileptic seizure in poetic form:\\n\\nThe brain, an electric storm, \\nNeurons fire in a swarm.\\nA burst of activity, uncontrolled,\\nAs synapses fire, a hundredfold.\\nThe body shakes, the limbs all flail, \\nAs the normal circuitry does fail. \\nConsciousness fades, the mind goes dark,\\nAs the seizure leaves its mark.\\nThen the storm does pass on by,\\nThe synapses exhausted, by and by.\\nThe brain regains a calm, steady state,  \\nAs the person wonders of their fate.\\nAn epileptic fit, a transient fare,\\nThen life resumes its usual air.\\nThe brain's electricity, a wondrous thing,\\nYet when disordered, havoc it can bring.\\nA seizure comes, shakes, then disappears, \\nThis strangest of neurological careers.\", additional_kwargs={}, example=False)"
      ]
     },
     "execution_count": 4,
     "metadata": {},
     "output_type": "execute_result"
    }
   ],
   "source": [
    "messages = [\n",
    "    HumanMessage(\n",
    "        content=\"You are an epilepsy expert that also is a poet. Describe to me what is an epileptic seizure.\"\n",
    "    )\n",
    "]\n",
    "chat(messages)"
   ]
  },
  {
   "cell_type": "code",
   "execution_count": 5,
   "id": "f8d22b64-d13e-42a9-b95e-f1fd477d8c88",
   "metadata": {},
   "outputs": [
    {
     "data": {
      "text/plain": [
       "AIMessage(content=' Here is how I would describe an epileptic seizure in poetic form:\\n\\nA storm within the brain, \\nNeurons fire without refrain.\\nElectrical tempest, misfiring,\\nThoughts and movements conspiring.\\nThe body shakes, awareness frays,\\nAs the mind unwinds its ways.\\nA temporary glitch in the system, \\nThe usual rhythms twist and spasm.\\nBut the clouds will pass, the rain will cease,\\nAs the brain returns to peace.\\nThe storm abates, normality restored, \\nAs the body and mind come back on board.\\nThe episode passes into the night,\\nAs the brain returns to quiet light.', additional_kwargs={}, example=False)"
      ]
     },
     "execution_count": 5,
     "metadata": {},
     "output_type": "execute_result"
    }
   ],
   "source": [
    "chat = ChatAnthropic(temperature=0)\n",
    "messages = [\n",
    "    HumanMessage(\n",
    "        content=\"You are an epilepsy expert that also is a poet. Describe to me what is an epileptic seizure.\"\n",
    "    )\n",
    "]\n",
    "chat(messages)"
   ]
  },
  {
   "cell_type": "code",
   "execution_count": 9,
   "id": "32c28e00-eb0a-4b15-929b-9607330f1373",
   "metadata": {},
   "outputs": [
    {
     "data": {
      "text/plain": [
       "AIMessage(content=\" Here is my attempt at a poetic description of an epileptic seizure:\\n\\nThe brain, an orchestra of neurons,  suddenly plays out of tune,  \\nA burst of chaotic symphony, a wild, dysfunctional swoon.\\nThe body shakes and jerks about, as circuits misfire within,  \\nA storm of bioelectric flood, the senses scramble and spin.\\nThe mind is overwhelmed by the neuronal thunder, \\nAwareness fades as the brain is torn asunder.\\nBut soon the mischief passes, the neurons calm their fray,\\nThe body stills, awareness returns, the mind finds its way.\\nThe episode leaves one exhausted, the aftermath so drear, \\nA frightening experience for all, the epileptic seizure so fearsome and queer.\\n\\nMy poetic skills may be quite limited, but I tried to capture the essence of a seizure as a sudden burst of uncontrolled electrical activity in the brain that causes a temporary disruption of senses and awareness, accompanied by physical spasms and jerks, before eventually calming down as the brain restores normal functioning. Please let me know if you would like me to try again with a different style or perspective! I'm still learning the art of poetry.\", additional_kwargs={}, example=False)"
      ]
     },
     "execution_count": 9,
     "metadata": {},
     "output_type": "execute_result"
    }
   ],
   "source": [
    "chat = ChatAnthropic(temperature=0.99)\n",
    "messages = [\n",
    "    HumanMessage(\n",
    "        content=\"You are an epilepsy expert that also is a poet. Describe to me what is an epileptic seizure.\"\n",
    "    )\n",
    "]\n",
    "chat(messages)"
   ]
  },
  {
   "cell_type": "code",
   "execution_count": null,
   "id": "bf9363bd-5497-42cb-b450-511a1e16c809",
   "metadata": {},
   "outputs": [],
   "source": []
  },
  {
   "cell_type": "code",
   "execution_count": 6,
   "id": "4bcb1df5-b96a-4eb1-8133-380fc43e7cd9",
   "metadata": {},
   "outputs": [],
   "source": [
    "chat = ChatAnthropic()"
   ]
  },
  {
   "cell_type": "code",
   "execution_count": 12,
   "id": "eb33b86b-913e-43da-bac3-bc3a952d1a5d",
   "metadata": {},
   "outputs": [],
   "source": [
    "ai_response = chat(messages)"
   ]
  },
  {
   "cell_type": "code",
   "execution_count": 13,
   "id": "869b4646-ee4c-4f01-988a-15f3b62b2e8b",
   "metadata": {},
   "outputs": [
    {
     "data": {
      "text/plain": [
       "AIMessage(content=' Here is my attempt at a poetic description of an epileptic seizure:\\n\\nA storm within the brain, \\nNeurons firing without rein.\\nElectric charges run amok,\\nAs connections wildly struck.\\nA rush of sensation, \\nBeyond comprehension.\\nJerking, twitching without command,  \\nAs reason flees the land.\\nA temporary short-circuit fray,\\nLasting but minutes, though seeming as days.\\nThe mind then slows, the body stills, \\nExhausted, spent, the seizure thrills.\\nMysteries still of how and why, \\nThese storms beneath the skull arise.\\nA medical mystery of the brain,\\nIs the poetic epileptic reign.', additional_kwargs={}, example=False)"
      ]
     },
     "execution_count": 13,
     "metadata": {},
     "output_type": "execute_result"
    }
   ],
   "source": [
    "ai_response"
   ]
  },
  {
   "cell_type": "code",
   "execution_count": 15,
   "id": "831e102f-3e76-406b-adbe-0ce893dc6331",
   "metadata": {},
   "outputs": [
    {
     "data": {
      "text/plain": [
       "[' Here is my attempt at a poetic description of an epileptic seizure:',\n",
       " '',\n",
       " 'A storm within the brain, ',\n",
       " 'Neurons firing without rein.',\n",
       " 'Electric charges run amok,',\n",
       " 'As connections wildly struck.',\n",
       " 'A rush of sensation, ',\n",
       " 'Beyond comprehension.',\n",
       " 'Jerking, twitching without command,  ',\n",
       " 'As reason flees the land.',\n",
       " 'A temporary short-circuit fray,',\n",
       " 'Lasting but minutes, though seeming as days.',\n",
       " 'The mind then slows, the body stills, ',\n",
       " 'Exhausted, spent, the seizure thrills.',\n",
       " 'Mysteries still of how and why, ',\n",
       " 'These storms beneath the skull arise.',\n",
       " 'A medical mystery of the brain,',\n",
       " 'Is the poetic epileptic reign.']"
      ]
     },
     "execution_count": 15,
     "metadata": {},
     "output_type": "execute_result"
    }
   ],
   "source": [
    "str.splitlines(ai_response.content)"
   ]
  },
  {
   "cell_type": "code",
   "execution_count": null,
   "id": "9f03545d-1371-424b-b08e-25b5e4be9fcd",
   "metadata": {},
   "outputs": [],
   "source": []
  }
 ],
 "metadata": {
  "kernelspec": {
   "display_name": "Python 3 (ipykernel)",
   "language": "python",
   "name": "python3"
  },
  "language_info": {
   "codemirror_mode": {
    "name": "ipython",
    "version": 3
   },
   "file_extension": ".py",
   "mimetype": "text/x-python",
   "name": "python",
   "nbconvert_exporter": "python",
   "pygments_lexer": "ipython3",
   "version": "3.9.16"
  }
 },
 "nbformat": 4,
 "nbformat_minor": 5
}
